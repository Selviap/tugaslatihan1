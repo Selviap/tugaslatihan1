{
  "nbformat": 4,
  "nbformat_minor": 0,
  "metadata": {
    "colab": {
      "provenance": [],
      "include_colab_link": true
    },
    "kernelspec": {
      "name": "python3",
      "display_name": "Python 3"
    },
    "language_info": {
      "name": "python"
    }
  },
  "cells": [
    {
      "cell_type": "markdown",
      "metadata": {
        "id": "view-in-github",
        "colab_type": "text"
      },
      "source": [
        "<a href=\"https://colab.research.google.com/github/Selviap/tugaslatihan1/blob/main/Copy_of_Tugas_Latihan.ipynb\" target=\"_parent\"><img src=\"https://colab.research.google.com/assets/colab-badge.svg\" alt=\"Open In Colab\"/></a>"
      ]
    },
    {
      "cell_type": "markdown",
      "source": [
        "Sebuah start-up GoPay merupakan perusahaan vintage yang menjadi alat pembayaran aplikasi marketplace dan lainnya. Anda seorang programmer yang ditugaskan untuk membuat aplikasi GoPay yang memiliki sebuah class bernama AkunGopay, yang memiliki atribut no_hp, nama dan saldo, dimana semua atribut bersifat private, demi keamanan.\n",
        "\n",
        "\n",
        "Pengguna bisa mendaftar akun GoPay dengan no_hp dan nama saja, namun juga bisa mendaftar dengan no_hp, nama dan saldo. Jika mendaftar dengan no_hp dan nama saja maka saldo otomatis bernilai 0.\n",
        "\n",
        "\n",
        "Class AkunGopay harus menyediakan fungsi yang dapat diakses oleh Marketplace untuk melakukan transaksi, yaitu :\n",
        "\n",
        "1.   topUp(), yang digunakan untuk menambahkan saldo\n",
        "2.   bayarTransaksi(), yang mengurangi saldo ketika melakukan transaksi\n",
        "3.   getSaldo(), untuk mengetahui jumlah saldo\n",
        "\n",
        "\n",
        "\n",
        "Teman Anda adalah seorang programer yang bekerja di sebuah start-up terkemuka Tokopedia yang bekerjasama dengan start-up keuangan GoPay. Anda ditugaskan membuat apikasi yang memiliki class AkunToped, dan memiliki atribut nama dan nomer_hp.\n",
        "\n",
        "Class AkunToped harus menyediakan fungsi yang untuk melakukan transaksi, yaitu:\n",
        "\n",
        "1. transaksi(), yang digunakan untuk mengurangi saldo Gopay dengan paramater nominal transaksi.\n",
        "2. getSaldo(), untuk mengetahui jumlah saldo Gopay.\n",
        "\n"
      ],
      "metadata": {
        "id": "NOQKwrfHB4pv"
      }
    },
    {
      "cell_type": "code",
      "execution_count": 7,
      "metadata": {
        "id": "peDTMz-5kxlh"
      },
      "outputs": [],
      "source": [
        "#Desain Class\n",
        "class AkunGopay:\n",
        "    def __init__(self, no_hp, nama, saldo=0):\n",
        "        self.__no_hp = no_hp\n",
        "        self.__nama = nama\n",
        "        self.__saldo = saldo\n",
        "\n",
        "    def topUp(self, nominal):\n",
        "        self.__saldo += nominal\n",
        "\n",
        "    def bayarTransaksi(self, nominal):\n",
        "        if nominal <= self.__saldo:\n",
        "            self.__saldo -= nominal\n",
        "        else:\n",
        "            print(\"Saldo tidak cukup\")\n",
        "\n",
        "    def getSaldo(self):\n",
        "        return self.__saldo\n",
        "\n",
        "\n",
        "\n",
        "class AkunToped:\n",
        "    def __init__(self, nama, no_hp, gopay):\n",
        "        self.__nama = nama\n",
        "        self.__no_hp = no_hp\n",
        "        self.__gopay = gopay\n",
        "\n",
        "    def transaksi(self, nominal):\n",
        "        self.__gopay.bayarTransaksi(nominal)\n",
        "\n",
        "    def getSaldo(self):\n",
        "        return self.__gopay.getSaldo()"
      ]
    },
    {
      "cell_type": "code",
      "source": [
        "#Main Program\n",
        "#Membuat objek AkunGopay\n",
        "gopay = AkunGopay(\"081234567890\", \"Selvi\", 50000)\n",
        "\n",
        "#Membuat objek AkunToped menggunakan objek AkunGopay di atas\n",
        "toped = AkunToped(\"Aprilia\", \"081234567891\", gopay)\n",
        "\n",
        "print(\"Saldo awal gopay:\", gopay.getSaldo())\n",
        "print(\"Saldo awal toped:\", toped.getSaldo())\n",
        "\n",
        "#Melakukan transaksi pembayaran di akun Toped sebesar 30000\n",
        "print(\"Melakukan transaksi pembayaran di toped sebesar 30000\")\n",
        "toped.transaksi(30000)\n",
        "\n",
        "print(\"Saldo akhir gopay:\", gopay.getSaldo())\n",
        "print(\"Saldo akhir toped:\", toped.getSaldo())\n",
        "\n",
        "#Melakukan top up di akun Gopay sebesar 100000\n",
        "print(\"Melakukan top up di gopay sebesar 100000\")\n",
        "gopay.topUp(100000)\n",
        "\n",
        "print(\"Saldo akhir gopay:\", gopay.getSaldo())\n",
        "print(\"Saldo akhir toped:\", toped.getSaldo())\n"
      ],
      "metadata": {
        "id": "eitzekkYkycQ",
        "colab": {
          "base_uri": "https://localhost:8080/"
        },
        "outputId": "cf951870-048f-4470-fb29-527bbc86c54f"
      },
      "execution_count": 8,
      "outputs": [
        {
          "output_type": "stream",
          "name": "stdout",
          "text": [
            "Saldo awal gopay: 50000\n",
            "Saldo awal toped: 50000\n",
            "Melakukan transaksi pembayaran di toped sebesar 30000\n",
            "Saldo akhir gopay: 20000\n",
            "Saldo akhir toped: 20000\n",
            "Melakukan top up di gopay sebesar 100000\n",
            "Saldo akhir gopay: 120000\n",
            "Saldo akhir toped: 120000\n"
          ]
        }
      ]
    }
  ]
}